{
 "cells": [
  {
   "cell_type": "markdown",
   "metadata": {},
   "source": [
    "# Dynamic graphic on Jupyter with SVG/D3\n",
    "\n",
    "The SVG element introduced in HTML 5.0 allows for dynamic graphic embedded in any web page, including Jupyter notebooks.\n",
    "\n",
    "The D3 javascript library allows for easy manipulation of SVG elements, and brings the power of dynamic graphic handling to Jupyter notebooks."
   ]
  },
  {
   "cell_type": "markdown",
   "metadata": {},
   "source": [
    "## Importing D3\n",
    "\n",
    "For this example, we will use the publically available D3 library from [d3js.org](D3 js) website; \n",
    "using `require`. It is also possible require it locally using a pre-fetched local copy."
   ]
  },
  {
   "cell_type": "code",
   "execution_count": 1,
   "metadata": {},
   "outputs": [
    {
     "data": {
      "application/javascript": [
       "require.config({\n",
       "    paths: {\n",
       "        D3: \"https://d3js.org/d3.v5.min\"\n",
       "    }\n",
       "});\n"
      ],
      "text/plain": [
       "<IPython.core.display.Javascript object>"
      ]
     },
     "metadata": {},
     "output_type": "display_data"
    }
   ],
   "source": [
    "%%javascript\n",
    "require.config({\n",
    "    paths: {\n",
    "        D3: \"https://d3js.org/d3.v5.min\"\n",
    "    }\n",
    "});"
   ]
  },
  {
   "cell_type": "markdown",
   "metadata": {},
   "source": [
    "## Making SVG elements dynamic\n",
    "\n",
    "We can create an SVG Element in the page using the `%%html` magic, and then use D3 to manipulate them:"
   ]
  },
  {
   "cell_type": "code",
   "execution_count": 2,
   "metadata": {},
   "outputs": [
    {
     "data": {
      "text/html": [
       "<svg width=\"720\" height=\"120\">\n",
       "  <circle cx=\"40\" cy=\"60\" r=\"10\"></circle>\n",
       "  <circle cx=\"80\" cy=\"60\" r=\"10\"></circle>\n",
       "  <circle cx=\"120\" cy=\"60\" r=\"10\"></circle>\n",
       "</svg>\n"
      ],
      "text/plain": [
       "<IPython.core.display.HTML object>"
      ]
     },
     "metadata": {},
     "output_type": "display_data"
    }
   ],
   "source": [
    "%%html\n",
    "<svg width=\"720\" height=\"120\">\n",
    "  <circle cx=\"40\" cy=\"60\" r=\"10\"></circle>\n",
    "  <circle cx=\"80\" cy=\"60\" r=\"10\"></circle>\n",
    "  <circle cx=\"120\" cy=\"60\" r=\"10\"></circle>\n",
    "</svg>\n"
   ]
  },
  {
   "cell_type": "code",
   "execution_count": 3,
   "metadata": {},
   "outputs": [
    {
     "data": {
      "application/javascript": [
       "/* Get all the circles and change them: */\n",
       "require(['D3'], function(d3) {\n",
       "    var circles = d3.selectAll(\"circle\");\n",
       "    circles.style(\"fill\", \"steelblue\");\n",
       "    circles.attr(\"r\", 30);  \n",
       "});\n"
      ],
      "text/plain": [
       "<IPython.core.display.Javascript object>"
      ]
     },
     "metadata": {},
     "output_type": "display_data"
    }
   ],
   "source": [
    "%%javascript\n",
    "/* Get all the circles and change them: */\n",
    "require(['D3'], function(d3) {\n",
    "    var circles = d3.selectAll(\"circle\");\n",
    "    circles.style(\"fill\", \"steelblue\");\n",
    "    circles.attr(\"r\", 30);  \n",
    "});"
   ]
  },
  {
   "cell_type": "markdown",
   "metadata": {},
   "source": [
    "For more about dynamic Javascript and integration with other Javascript frameworks, see [this other notebook](https://github.com/jonnymind/Notebooks/blob/master/Dynamic-JS-with-VUE.ipynb)."
   ]
  }
 ],
 "metadata": {
  "kernelspec": {
   "display_name": "Python 3",
   "language": "python",
   "name": "python3"
  },
  "language_info": {
   "codemirror_mode": {
    "name": "ipython",
    "version": 3
   },
   "file_extension": ".py",
   "mimetype": "text/x-python",
   "name": "python",
   "nbconvert_exporter": "python",
   "pygments_lexer": "ipython3",
   "version": "3.7.3"
  },
  "widgets": {
   "application/vnd.jupyter.widget-state+json": {
    "state": {},
    "version_major": 2,
    "version_minor": 0
   }
  }
 },
 "nbformat": 4,
 "nbformat_minor": 2
}
