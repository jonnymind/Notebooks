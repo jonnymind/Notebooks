{
 "cells": [
  {
   "cell_type": "markdown",
   "metadata": {},
   "source": [
    "# Dynamic Javascript with VUE\n",
    "\n",
    "\n",
    "Jupyter Notebook front end is powered by JQuery, which is natively available to Javascript coded written in the notebooks.\n",
    "\n",
    "However, JQuery is more a DOM library than a full featured application framework. Some dynamic content that could be served through Jupyter might be more easily written using more complete frameworks.\n",
    "\n",
    "This example show how to integrate VUE with a Jupyter notebook."
   ]
  },
  {
   "cell_type": "markdown",
   "metadata": {},
   "source": [
    "## Importing the framework\n",
    "\n",
    "The `require()` Javascript function can be used to import the necessary extensions into the notebool.\n",
    "\n",
    "First, it's necessary to setup the _require_ function configuration, so that it can map a required module with a physical address.\n",
    "\n",
    "For this example, we will use the publically available VUE server to download the framework, but `require` supports also locally stored modules."
   ]
  },
  {
   "cell_type": "code",
   "execution_count": 1,
   "metadata": {},
   "outputs": [
    {
     "data": {
      "application/javascript": [
       "require.config({\n",
       "    paths: {\n",
       "        vue: \"https://cdnjs.cloudflare.com/ajax/libs/vue/2.4.0/vue\"\n",
       "    }\n",
       "});\n"
      ],
      "text/plain": [
       "<IPython.core.display.Javascript object>"
      ]
     },
     "metadata": {},
     "output_type": "display_data"
    }
   ],
   "source": [
    "%%javascript\n",
    "require.config({\n",
    "    paths: {\n",
    "        vue: \"https://cdnjs.cloudflare.com/ajax/libs/vue/2.4.0/vue\"\n",
    "    }\n",
    "});"
   ]
  },
  {
   "cell_type": "markdown",
   "metadata": {},
   "source": [
    "## Specialised HTML\n",
    "\n",
    "VUE.js, like many other Javascript frameworks, uses specialised DOM elements (mostly special attributes) as hooks for its dynamic page engine. We can paint the special content directly on the page withe the `%%html` Jupyter magic marker:"
   ]
  },
  {
   "cell_type": "code",
   "execution_count": 2,
   "metadata": {},
   "outputs": [
    {
     "data": {
      "text/html": [
       "<h3>A dynamic TODO list</h3>\n",
       "<div id=\"dl-1\">\n",
       "  <ol>\n",
       "    <li v-for=\"todo in todos\">\n",
       "      {{ todo.text }}\n",
       "    </li>\n",
       "  </ol>\n",
       "</div>\n"
      ],
      "text/plain": [
       "<IPython.core.display.HTML object>"
      ]
     },
     "metadata": {},
     "output_type": "display_data"
    }
   ],
   "source": [
    "%%html\n",
    "<h3>A dynamic TODO list</h3>\n",
    "<div id=\"dl-1\">\n",
    "  <ol>\n",
    "    <li v-for=\"todo in todos\">\n",
    "      {{ todo.text }}\n",
    "    </li>\n",
    "  </ol>\n",
    "</div>"
   ]
  },
  {
   "cell_type": "markdown",
   "metadata": {},
   "source": [
    "Or, we can use more Jupyter-friendly output systems, as the Python display module."
   ]
  },
  {
   "cell_type": "code",
   "execution_count": 3,
   "metadata": {},
   "outputs": [
    {
     "data": {
      "text/html": [
       "\n",
       "<h3>A dynamic list rendered via the Python Kernel</h3>\n",
       "<div id=\"dl-2\">\n",
       "  <ol>\n",
       "    <li v-for=\"todo in todos\">\n",
       "      {{ todo.text }}\n",
       "    </li>\n",
       "  </ol>\n",
       "</div>\n"
      ],
      "text/plain": [
       "<IPython.core.display.HTML object>"
      ]
     },
     "metadata": {},
     "output_type": "display_data"
    }
   ],
   "source": [
    "from IPython.core.display import display, HTML\n",
    "display(HTML(\"\"\"\n",
    "<h3>A dynamic list rendered via the Python Kernel</h3>\n",
    "<div id=\"dl-2\">\n",
    "  <ol>\n",
    "    <li v-for=\"todo in todos\">\n",
    "      {{ todo.text }}\n",
    "    </li>\n",
    "  </ol>\n",
    "</div>\n",
    "\"\"\"))"
   ]
  },
  {
   "cell_type": "markdown",
   "metadata": {},
   "source": [
    "## Running the framework\n",
    "\n",
    "At this point, we can use the dynamic framework to interact with the DOM structure we created above. \n",
    "\n",
    "\n",
    "There are several ways to create an isntance of the configured module with requrie(), but my favourite is the functional idiom, that passes the required module as a parameter of a callback function, where the bulk of the work is performed.\n",
    "\n",
    "This keeps the environment of the Jupyter notebook internally clean, and allows each cell to be fully independent."
   ]
  },
  {
   "cell_type": "code",
   "execution_count": 4,
   "metadata": {},
   "outputs": [
    {
     "data": {
      "application/javascript": [
       "/* This is our dynamic code */\n",
       "require(['vue'], function(Vue) {\n",
       "\n",
       "   /* Filling the first list */\n",
       "   new Vue({\n",
       "      el: '#dl-1',\n",
       "      data: {\n",
       "        todos: [\n",
       "          { text: 'Learn JavaScript' },\n",
       "          { text: 'Learn Vue' },\n",
       "          { text: 'Build something awesome' }\n",
       "        ]\n",
       "      }\n",
       "    });\n",
       "    \n",
       "    /* Filling the second list, with some work on it... */\n",
       "    var dyn_list = new Vue({\n",
       "      el: '#dl-2',\n",
       "      data: {\n",
       "        todos: [\n",
       "          { text: 'Learn Jupyter' },\n",
       "          { text: 'Learn %%javascript magic' }\n",
       "        ]\n",
       "      }\n",
       "    });\n",
       "\n",
       "    /*... here is some magic done. */\n",
       "    dyn_list.todos.push({text: 'Require VUE and to more magic'});\n",
       "});\n"
      ],
      "text/plain": [
       "<IPython.core.display.Javascript object>"
      ]
     },
     "metadata": {},
     "output_type": "display_data"
    }
   ],
   "source": [
    "%%javascript\n",
    "/* This is our dynamic code */\n",
    "require(['vue'], function(Vue) {\n",
    "\n",
    "   /* Filling the first list */\n",
    "   new Vue({\n",
    "      el: '#dl-1',\n",
    "      data: {\n",
    "        todos: [\n",
    "          { text: 'Learn JavaScript' },\n",
    "          { text: 'Learn Vue' },\n",
    "          { text: 'Build something awesome' }\n",
    "        ]\n",
    "      }\n",
    "    });\n",
    "    \n",
    "    /* Filling the second list, with some work on it... */\n",
    "    var dyn_list = new Vue({\n",
    "      el: '#dl-2',\n",
    "      data: {\n",
    "        todos: [\n",
    "          { text: 'Learn Jupyter' },\n",
    "          { text: 'Learn %%javascript magic' }\n",
    "        ]\n",
    "      }\n",
    "    });\n",
    "\n",
    "    /*... here is some magic done. */\n",
    "    dyn_list.todos.push({text: 'Require VUE and to more magic'});\n",
    "});"
   ]
  },
  {
   "cell_type": "markdown",
   "metadata": {},
   "source": [
    "## Running the framework again\n",
    "\n",
    "At times, you'll want to have objects that can be used across different cells, instead of confining all the work in a single function.\n",
    "\n",
    "For this example, we'll use a new canvas:"
   ]
  },
  {
   "cell_type": "code",
   "execution_count": 5,
   "metadata": {},
   "outputs": [
    {
     "data": {
      "text/html": [
       "<h3>A New Canvas</h3>\n",
       "<div id=\"dl-3\">\n",
       "  <ol>\n",
       "    <li v-for=\"todo in todos\">\n",
       "      {{ todo.text }}\n",
       "    </li>\n",
       "  </ol>\n",
       "</div>\n"
      ],
      "text/plain": [
       "<IPython.core.display.HTML object>"
      ]
     },
     "metadata": {},
     "output_type": "display_data"
    }
   ],
   "source": [
    "%%html\n",
    "<h3>A New Canvas</h3>\n",
    "<div id=\"dl-3\">\n",
    "  <ol>\n",
    "    <li v-for=\"todo in todos\">\n",
    "      {{ todo.text }}\n",
    "    </li>\n",
    "  </ol>\n",
    "</div>"
   ]
  },
  {
   "cell_type": "markdown",
   "metadata": {},
   "source": [
    "And then, create the VUE object as a public variable on the Javascript end of the Notebook, with a little caveat: `var` declared in %%javascript magic are local for that block, so we need to store the created object in the global `document` instance."
   ]
  },
  {
   "cell_type": "code",
   "execution_count": 6,
   "metadata": {},
   "outputs": [
    {
     "data": {
      "application/javascript": [
       "var Vue = require('vue');\n",
       "document.dynamic_list = new Vue({\n",
       "      el: '#dl-3',\n",
       "      data: {\n",
       "        todos: [\n",
       "          { text: 'First item of a new canvas' },\n",
       "          { text: 'Second Item of an new canvas' }\n",
       "        ]\n",
       "      }\n",
       "    });\n"
      ],
      "text/plain": [
       "<IPython.core.display.Javascript object>"
      ]
     },
     "metadata": {},
     "output_type": "display_data"
    }
   ],
   "source": [
    "%%javascript\n",
    "var Vue = require('vue');\n",
    "document.dynamic_list = new Vue({\n",
    "      el: '#dl-3',\n",
    "      data: {\n",
    "        todos: [\n",
    "          { text: 'First item of a new canvas' },\n",
    "          { text: 'Second Item of an new canvas' }\n",
    "        ]\n",
    "      }\n",
    "    });"
   ]
  },
  {
   "cell_type": "markdown",
   "metadata": {},
   "source": [
    "And then, we can dynamically change the Javascript variable, adding new content as we go on."
   ]
  },
  {
   "cell_type": "code",
   "execution_count": 7,
   "metadata": {},
   "outputs": [
    {
     "data": {
      "application/javascript": [
       "/* A little caveat */\n",
       "document.dynamic_list.todos.push({text:\"A dynamic element\"});\n"
      ],
      "text/plain": [
       "<IPython.core.display.Javascript object>"
      ]
     },
     "metadata": {},
     "output_type": "display_data"
    }
   ],
   "source": [
    "%%javascript\n",
    "/* A little caveat */\n",
    "document.dynamic_list.todos.push({text:\"A dynamic element\"});"
   ]
  }
 ],
 "metadata": {
  "kernelspec": {
   "display_name": "Python 3",
   "language": "python",
   "name": "python3"
  },
  "language_info": {
   "codemirror_mode": {
    "name": "ipython",
    "version": 3
   },
   "file_extension": ".py",
   "mimetype": "text/x-python",
   "name": "python",
   "nbconvert_exporter": "python",
   "pygments_lexer": "ipython3",
   "version": "3.7.3"
  },
  "widgets": {
   "application/vnd.jupyter.widget-state+json": {
    "state": {},
    "version_major": 2,
    "version_minor": 0
   }
  }
 },
 "nbformat": 4,
 "nbformat_minor": 2
}
