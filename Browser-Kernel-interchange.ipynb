{
 "cells": [
  {
   "cell_type": "markdown",
   "metadata": {
    "hide_input": true
   },
   "source": [
    "# Browser/Kernel data interchange\n",
    "\n",
    "Jupyter is a HTML/Javascript/jquery applicaiton which runs a programming language in the background, and renders the results on a browser page.\n",
    "\n",
    "This examples show how to pass variables between the dynamic page and the kernel, through the introspective JS \"Jupyter\" API."
   ]
  },
  {
   "cell_type": "markdown",
   "metadata": {},
   "source": [
    "### Sending a variable from Javascript to the Kernel\n",
    "\n",
    "The following code creates a variable \"browser_side\" on the browser page youre running, and then asks the kernel to execute a statement.\n",
    "\n",
    "Incidentally, the kernel is python, and we can assign a json-formatted object directly into a python variable."
   ]
  },
  {
   "cell_type": "code",
   "execution_count": 1,
   "metadata": {
    "hide_input": false
   },
   "outputs": [
    {
     "data": {
      "application/javascript": [
       "var obj = {\n",
       "    name: \"an object\",\n",
       "    value: 10.1\n",
       "};\n",
       "var data = JSON.stringify(obj);\n",
       "/* This will create kernel_obj on the kernel, \n",
       "   with the same content as 'obj' */\n",
       "Jupyter.notebook.kernel.execute(\"kernel_obj = \" + data);\n"
      ],
      "text/plain": [
       "<IPython.core.display.Javascript object>"
      ]
     },
     "metadata": {},
     "output_type": "display_data"
    }
   ],
   "source": [
    "%%javascript\n",
    "var obj = {\n",
    "    name: \"an object\",\n",
    "    value: 10.1\n",
    "};\n",
    "var data = JSON.stringify(obj);\n",
    "/* This will create kernel_obj on the kernel, \n",
    "   with the same content as 'obj' */\n",
    "Jupyter.notebook.kernel.execute(\"kernel_obj = \" + data);"
   ]
  },
  {
   "cell_type": "markdown",
   "metadata": {},
   "source": [
    "You can then see that, kernel_obj is now known to the remote python kernel:"
   ]
  },
  {
   "cell_type": "code",
   "execution_count": 2,
   "metadata": {
    "hide_input": false
   },
   "outputs": [
    {
     "name": "stdout",
     "output_type": "stream",
     "text": [
      "I am 'an object' and, my value is 10.1\n"
     ]
    }
   ],
   "source": [
    "print(\"I am '{0}' and, my value is {1}\".format(\n",
    "    kernel_obj['name'], kernel_obj['value']))"
   ]
  },
  {
   "cell_type": "markdown",
   "metadata": {},
   "source": [
    "Also interestingly, we can just ask the kernel\n",
    "to evaluate the variable 'as is', and get a textual description\n",
    "that is rendered on the page as \"execution result\".\n"
   ]
  },
  {
   "cell_type": "code",
   "execution_count": 3,
   "metadata": {},
   "outputs": [
    {
     "data": {
      "text/plain": [
       "{'name': 'an object', 'value': 10.1}"
      ]
     },
     "execution_count": 3,
     "metadata": {},
     "output_type": "execute_result"
    }
   ],
   "source": [
    "kernel_obj"
   ]
  },
  {
   "cell_type": "markdown",
   "metadata": {},
   "source": [
    "This is achieved by the kernel handler receving an `execution_result` message, which then is rendedered as `Out[..]:` by the javascript engine on the page.\n",
    "\n",
    "Knowing this, we can now retreive a value from the kernel."
   ]
  },
  {
   "cell_type": "markdown",
   "metadata": {},
   "source": [
    "### Reading a variable from the kernel into the browser Javascript\n",
    "\n",
    "For the inverse procedure, we need to ask the kernel to evaluate the variable, and send its text representation back to us.\n",
    "\n",
    "The `Jupyter.notebook.kernel` object has a `execute` method that can be provided with various callbacks, through an object passed as a paramter. We are interested in the `execution_result` message, which is sent to the `iopub.output` callback."
   ]
  },
  {
   "cell_type": "code",
   "execution_count": 4,
   "metadata": {},
   "outputs": [
    {
     "data": {
      "application/javascript": [
       "function display(msg){\n",
       "    /* 'element' reflects the output of this cell in Jquery */\n",
       "    console.log(msg)\n",
       "    element.text(\"Receivced '\"+ msg.msg_type + \n",
       "                 \"' with content '\" +\n",
       "                 msg.content.data['text/plain'] +\"'\");\n",
       "};\n",
       "\n",
       "Jupyter.notebook.kernel.execute(\n",
       "       \"kernel_obj\",   /* Evaluating the variable symbol */\n",
       "       {iopub:{output: display}}, /* output message callback */\n",
       "       {silent:false}); /* Ask to render the variable evaluation */\n"
      ],
      "text/plain": [
       "<IPython.core.display.Javascript object>"
      ]
     },
     "metadata": {},
     "output_type": "display_data"
    }
   ],
   "source": [
    "%%javascript\n",
    "function display(msg){\n",
    "    /* 'element' reflects the output of this cell in Jquery */\n",
    "    console.log(msg)\n",
    "    element.text(\"Receivced '\"+ msg.msg_type + \n",
    "                 \"' with content '\" +\n",
    "                 msg.content.data['text/plain'] +\"'\");\n",
    "};\n",
    "\n",
    "Jupyter.notebook.kernel.execute(\n",
    "       \"kernel_obj\",   /* Evaluating the variable symbol */\n",
    "       {iopub:{output: display}}, /* output message callback */\n",
    "       {silent:false}); /* Ask to render the variable evaluation */\n"
   ]
  },
  {
   "cell_type": "markdown",
   "metadata": {},
   "source": [
    "With this method, it's possible to create data on the browser, send it to the kernel for handling and storage, and get it back on the browser for dynamic rendering."
   ]
  }
 ],
 "metadata": {
  "kernelspec": {
   "display_name": "Python 3",
   "language": "python",
   "name": "python3"
  },
  "language_info": {
   "codemirror_mode": {
    "name": "ipython",
    "version": 3
   },
   "file_extension": ".py",
   "mimetype": "text/x-python",
   "name": "python",
   "nbconvert_exporter": "python",
   "pygments_lexer": "ipython3",
   "version": "3.7.3"
  }
 },
 "nbformat": 4,
 "nbformat_minor": 2
}
