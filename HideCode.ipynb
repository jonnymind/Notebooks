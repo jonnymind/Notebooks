{
 "cells": [
  {
   "cell_type": "markdown",
   "metadata": {},
   "source": [
    "# Hiding Input Cells\n",
    "\n",
    "In many cases, what matters in a notebook is the result. For a cleaner presentation of the generated data, you might want to hide the code producing the output.\n",
    "\n",
    "This little script allows to do just that."
   ]
  },
  {
   "cell_type": "code",
   "execution_count": 19,
   "metadata": {},
   "outputs": [
    {
     "data": {
      "application/javascript": [
       "document.code_shown = true;\n",
       "document.code_toggle = function(element, when_shown, when_hidden) {\n",
       "    console.log(element);\n",
       "    var text;\n",
       "    if (document.code_shown){\n",
       "      $('div.input').hide('500');\n",
       "      text = when_hidden;\n",
       "    } else {\n",
       "      $('div.input').show('500');\n",
       "      text = when_shown;\n",
       "    }\n",
       "    element.innerHTML = text;\n",
       "    document.code_shown = !document.code_shown;\n",
       "  }\n"
      ],
      "text/plain": [
       "<IPython.core.display.Javascript object>"
      ]
     },
     "metadata": {},
     "output_type": "display_data"
    }
   ],
   "source": [
    "%%javascript\n",
    "document.code_shown = true;\n",
    "document.code_toggle = function(element, when_shown, when_hidden) {\n",
    "    console.log(element);\n",
    "    var text;\n",
    "    if (document.code_shown){\n",
    "      $('div.input').hide('500');\n",
    "      text = when_hidden;\n",
    "    } else {\n",
    "      $('div.input').show('500');\n",
    "      text = when_shown;\n",
    "    }\n",
    "    element.innerHTML = text;\n",
    "    document.code_shown = !document.code_shown;\n",
    "  }"
   ]
  },
  {
   "cell_type": "markdown",
   "metadata": {},
   "source": [
    "Notice that the function `code_toggle` is created as a member of `document`, to make it visible to other cells.\n",
    "\n",
    "All you need now is a dynamic component that can call this code in order to Show or Hide the input blocks. Any place in the document and any dynamic widget will do; for this example, we can use a simple button. "
   ]
  },
  {
   "cell_type": "code",
   "execution_count": 20,
   "metadata": {},
   "outputs": [
    {
     "data": {
      "text/html": [
       "<button id=\"toggleButton\" \n",
       "        onclick=\"document.code_toggle(this, 'Hide', 'Show')\"\n",
       "    >Hide</button>\n"
      ],
      "text/plain": [
       "<IPython.core.display.HTML object>"
      ]
     },
     "metadata": {},
     "output_type": "display_data"
    }
   ],
   "source": [
    "%%html\n",
    "<button id=\"toggleButton\" \n",
    "        onclick=\"document.code_toggle(this, 'Hide', 'Show')\"\n",
    "    >Hide</button>"
   ]
  },
  {
   "cell_type": "markdown",
   "metadata": {},
   "source": [
    "## Hiding code by default at startup\n",
    "\n",
    "The following code snippet will invoke the function when the page is first loaded (just add it to any `%%javascript` code cell in the notebook, or `<script>` block in an `%%html` code cell).\n",
    "\n",
    "```javascscript\n",
    "  $( document ).ready(function(){\n",
    "    document.code_shown=false;\n",
    "    $('div.input').hide()\n",
    "  });\n",
    "```"
   ]
  }
 ],
 "metadata": {
  "kernelspec": {
   "display_name": "Python 3",
   "language": "python",
   "name": "python3"
  },
  "language_info": {
   "codemirror_mode": {
    "name": "ipython",
    "version": 3
   },
   "file_extension": ".py",
   "mimetype": "text/x-python",
   "name": "python",
   "nbconvert_exporter": "python",
   "pygments_lexer": "ipython3",
   "version": "3.7.3"
  },
  "widgets": {
   "application/vnd.jupyter.widget-state+json": {
    "state": {},
    "version_major": 2,
    "version_minor": 0
   }
  }
 },
 "nbformat": 4,
 "nbformat_minor": 2
}
